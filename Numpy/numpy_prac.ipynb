{
 "cells": [
  {
   "cell_type": "code",
   "execution_count": null,
   "metadata": {},
   "outputs": [],
   "source": [
    "# numpy's core is at 'ndarray' object which is used to create array.\n",
    "\n",
    "# numpy's array unlike python list can't have heterogenous data, they only contain homogenous data.\n",
    "\n",
    "# numpy's array have fix size, if we exceed that length numpy will delete that array and create new array with same name but more space."
   ]
  },
  {
   "attachments": {},
   "cell_type": "markdown",
   "metadata": {},
   "source": [
    "<br><br>\n",
    "\n",
    "## IMPORTING NUMPY"
   ]
  },
  {
   "cell_type": "code",
   "execution_count": 1,
   "metadata": {},
   "outputs": [],
   "source": [
    "# importing numpy with abbreviation of 'np'\n",
    "import numpy as np"
   ]
  },
  {
   "attachments": {},
   "cell_type": "markdown",
   "metadata": {},
   "source": [
    "<br><br>\n",
    "\n",
    "## CREATING ARRAY(s)"
   ]
  },
  {
   "cell_type": "code",
   "execution_count": 2,
   "metadata": {},
   "outputs": [
    {
     "name": "stdout",
     "output_type": "stream",
     "text": [
      "[[[1 2 3]\n",
      "  [4 5 6]]\n",
      "\n",
      " [[1 2 3]\n",
      "  [4 5 6]]]\n"
     ]
    }
   ],
   "source": [
    "# creating array with array function\n",
    "rect0 = np.array(1)                                                                                             # 0D array\n",
    "rect1 = np.array([1,2,3])                                                                                       # 1D array\n",
    "rect2 = np.array([[1,2,3], [4,5,6]])                                                                            # 2D array\n",
    "rect3 = np.array([[[1,2,3], [4,5,6]], [[1,2,3], [4,5,6]]])                                                      # 3D array\n",
    "\n",
    "# print(rect0)\n",
    "# print(rect1)\n",
    "# print(rect2)\n",
    "print(rect3)"
   ]
  },
  {
   "attachments": {},
   "cell_type": "markdown",
   "metadata": {},
   "source": [
    "<br><br>\n",
    "\n",
    "## ARRAY ATTRIBUTES AND METHODS"
   ]
  },
  {
   "attachments": {},
   "cell_type": "markdown",
   "metadata": {},
   "source": [
    "<br><br>\n",
    "\n",
    "### NDIM"
   ]
  },
  {
   "cell_type": "code",
   "execution_count": 30,
   "metadata": {},
   "outputs": [
    {
     "name": "stdout",
     "output_type": "stream",
     "text": [
      "3\n"
     ]
    }
   ],
   "source": [
    "# will  give dimension of the array (no. of axis)\n",
    "print(rect3.ndim)"
   ]
  },
  {
   "attachments": {},
   "cell_type": "markdown",
   "metadata": {},
   "source": [
    "<br><br>\n",
    "\n",
    "### SHAPE"
   ]
  },
  {
   "cell_type": "code",
   "execution_count": 33,
   "metadata": {},
   "outputs": [
    {
     "name": "stdout",
     "output_type": "stream",
     "text": [
      "(2, 2, 3)\n"
     ]
    }
   ],
   "source": [
    "# will give shape of the array as tuple (length of each axis -> ((z->layers), (x->rows), (y->columns))\n",
    "print(rect3.shape)"
   ]
  },
  {
   "attachments": {},
   "cell_type": "markdown",
   "metadata": {},
   "source": [
    "<br><br>\n",
    "\n",
    "### DTYPE"
   ]
  },
  {
   "cell_type": "code",
   "execution_count": 32,
   "metadata": {},
   "outputs": [
    {
     "name": "stdout",
     "output_type": "stream",
     "text": [
      "[1.+0.j 2.+0.j 3.+0.j]\n",
      "complex128\n"
     ]
    }
   ],
   "source": [
    "# with dtype we can view/change data type of data\n",
    "sample1array = np.array([1,2,3], dtype=complex)\n",
    "print(sample1array)\n",
    "print(sample1array.dtype)"
   ]
  },
  {
   "attachments": {},
   "cell_type": "markdown",
   "metadata": {},
   "source": [
    "<br><br>\n",
    "\n",
    "### SIZE"
   ]
  },
  {
   "cell_type": "code",
   "execution_count": 31,
   "metadata": {},
   "outputs": [
    {
     "name": "stdout",
     "output_type": "stream",
     "text": [
      "12\n"
     ]
    }
   ],
   "source": [
    "# will give number of elements in array (you can also calculate it by multiplying all the axis's length)\n",
    "print(rect3.size)"
   ]
  },
  {
   "attachments": {},
   "cell_type": "markdown",
   "metadata": {},
   "source": [
    "<br><br>\n",
    "\n",
    "### ZEROS"
   ]
  },
  {
   "cell_type": "code",
   "execution_count": 34,
   "metadata": {},
   "outputs": [
    {
     "name": "stdout",
     "output_type": "stream",
     "text": [
      "[[0. 0. 0.]\n",
      " [0. 0. 0.]]\n"
     ]
    }
   ],
   "source": [
    "# will print out array with each element as zero with m-rows and n-columns\n",
    "# we have to give shape of an array to parameter as tuple\n",
    "zeros_array = np.zeros((2,3))\n",
    "print(zeros_array)"
   ]
  },
  {
   "attachments": {},
   "cell_type": "markdown",
   "metadata": {},
   "source": [
    "<br><br>\n",
    "\n",
    "### ONES"
   ]
  },
  {
   "cell_type": "code",
   "execution_count": 35,
   "metadata": {},
   "outputs": [
    {
     "name": "stdout",
     "output_type": "stream",
     "text": [
      "[[1. 1. 1.]\n",
      " [1. 1. 1.]\n",
      " [1. 1. 1.]]\n"
     ]
    }
   ],
   "source": [
    "# will print out array with each element as one with m-rows and n-columns\n",
    "# we have to give shape of an array to parameter as tuple\n",
    "ones_array = np.ones((3,3))\n",
    "print(ones_array)"
   ]
  },
  {
   "attachments": {},
   "cell_type": "markdown",
   "metadata": {},
   "source": [
    "<br><br>\n",
    "\n",
    "### EMPTY"
   ]
  },
  {
   "cell_type": "code",
   "execution_count": 36,
   "metadata": {},
   "outputs": [
    {
     "name": "stdout",
     "output_type": "stream",
     "text": [
      "[[0 0 0]\n",
      " [0 0 0]]\n"
     ]
    }
   ],
   "source": [
    "# empty will create array of m-rows and n-columns which holds random float data, but we can change it with dtype\n",
    "# we have to pass argument as tuple for the size of array\n",
    "empty_array = np.empty((2,3), dtype=int)\n",
    "print(empty_array)"
   ]
  },
  {
   "attachments": {},
   "cell_type": "markdown",
   "metadata": {},
   "source": [
    "<br><br>\n",
    "\n",
    "### ARANGE"
   ]
  },
  {
   "cell_type": "code",
   "execution_count": 37,
   "metadata": {},
   "outputs": [
    {
     "name": "stdout",
     "output_type": "stream",
     "text": [
      "[ 10  20  30  40  50  60  70  80  90 100]\n"
     ]
    }
   ],
   "source": [
    "# will create a range from first-number(included) upto last-number(excluded) with n-number of steps if specified else 1(default) in arguments\n",
    "range_array = np.arange(10,101, 10)\n",
    "print(range_array)"
   ]
  },
  {
   "attachments": {},
   "cell_type": "markdown",
   "metadata": {},
   "source": [
    "<br><br>\n",
    "\n",
    "### LINESPACE"
   ]
  },
  {
   "cell_type": "code",
   "execution_count": 38,
   "metadata": {},
   "outputs": [
    {
     "name": "stdout",
     "output_type": "stream",
     "text": [
      "[1.         1.11111111 1.22222222 1.33333333 1.44444444 1.55555556\n",
      " 1.66666667 1.77777778 1.88888889 2.        ]\n"
     ]
    }
   ],
   "source": [
    "# it will give n-number of linearly in specified interval elements between the two numbers rather than number after each steps\n",
    "linespace_array = np.linspace(1,2,10)\n",
    "print(linespace_array)"
   ]
  },
  {
   "attachments": {},
   "cell_type": "markdown",
   "metadata": {},
   "source": [
    "<br><br>\n",
    "\n",
    "### ARITHMETIC OPERATIONS"
   ]
  },
  {
   "cell_type": "code",
   "execution_count": 39,
   "metadata": {},
   "outputs": [
    {
     "name": "stdout",
     "output_type": "stream",
     "text": [
      "\n",
      "a : [10 20 30 40 50]\n",
      "b : [1 2 3 4 5]\n",
      "-------------------\n",
      "\n",
      "[10 20 30 40 50] + 5 = [15 25 35 45 55]\n",
      "[10 20 30 40 50] - 1 = [ 9 19 29 39 49]\n",
      "[10 20 30 40 50] * 10 = [100 200 300 400 500]\n",
      "[10 20 30 40 50] / 10 = [1. 2. 3. 4. 5.]\n",
      "\n",
      "[10 20 30 40 50] + [1 2 3 4 5] = [11 22 33 44 55]\n",
      "[10 20 30 40 50] - [1 2 3 4 5] = [ 9 18 27 36 45]\n",
      "[10 20 30 40 50] * [1 2 3 4 5] = [ 10  40  90 160 250]\n",
      "[10 20 30 40 50] / [1 2 3 4 5] = [10. 10. 10. 10. 10.]\n"
     ]
    }
   ],
   "source": [
    "# arithmetic operation operate on elementwise(will impact all elements of array), on performing operation new array will be created with operated value. \n",
    " \n",
    "a = np.array([10, 20, 30, 40, 50])\n",
    "b = np.array([1, 2, 3, 4, 5])\n",
    "\n",
    "print(f\"\\na : {a}\")\n",
    "print(f\"b : {b}\")\n",
    "print(\"-------------------\")\n",
    "\n",
    "print(f\"\\n{a} + 5 = {a + 5}\")\n",
    "print(f\"{a} - 1 = {a - 1}\")\n",
    "print(f\"{a} * 10 = {a * 10}\")\n",
    "print(f\"{a} / 10 = {a / 10}\\n\")\n",
    "\n",
    "\n",
    "# we can also perform arithmetic operations on two or more arrays combinly\n",
    "# remember arithmetic operation can be performed only on arrays with same shape(dimensions)\n",
    "\n",
    "print(f\"{a} + {b} = {a + b}\")\n",
    "print(f\"{a} - {b} = {a - b}\")\n",
    "print(f\"{a} * {b} = {a * b}\")\n",
    "print(f\"{a} / {b} = {a / b}\")"
   ]
  },
  {
   "attachments": {},
   "cell_type": "markdown",
   "metadata": {},
   "source": [
    "<br><br>\n",
    "\n",
    "### MATRIC PRODUCT"
   ]
  },
  {
   "cell_type": "code",
   "execution_count": 40,
   "metadata": {},
   "outputs": [
    {
     "name": "stdout",
     "output_type": "stream",
     "text": [
      "\n",
      "---------- Normal muliplication ----------\n",
      " [[2 0]\n",
      " [0 4]]\n",
      "\n",
      "---------- Matrix muliplication ----------\n",
      " [[5 4]\n",
      " [3 4]]\n"
     ]
    }
   ],
   "source": [
    "array_1 = np.array([[1,1],[0,1]])\n",
    "array_2 = np.array([[2,0],[3,4]])\n",
    "\n",
    "# A normal multiplication between two arrays can be done m\\by multiplying each element in same axes\n",
    "print(f\"\\n---------- Normal muliplication ----------\\n {array_1 * array_2}\")\n",
    "\n",
    "# But a matrix multiplication will be done like a normal mathematics matrix multiplication\n",
    "print(f\"\\n---------- Matrix muliplication ----------\\n {array_1 @ array_2}\")"
   ]
  },
  {
   "attachments": {},
   "cell_type": "markdown",
   "metadata": {},
   "source": [
    "<br><br>\n",
    "\n",
    "### UNARY FUNCTIONS"
   ]
  },
  {
   "cell_type": "code",
   "execution_count": 41,
   "metadata": {},
   "outputs": [
    {
     "name": "stdout",
     "output_type": "stream",
     "text": [
      "---------- rect2 ----------\n",
      "[[1 2 3]\n",
      " [4 5 6]]\n",
      "\n",
      "Minimum value : 1\n",
      "Maximum value : 6\n",
      "Sum : 21\n"
     ]
    }
   ],
   "source": [
    "print(f\"---------- rect2 ----------\\n{rect2}\\n\")\n",
    "print(f\"Minimum value : {rect2.min()}\")\n",
    "print(f\"Maximum value : {rect2.max()}\")\n",
    "print(f\"Sum : {rect2.sum()}\")"
   ]
  },
  {
   "attachments": {},
   "cell_type": "markdown",
   "metadata": {},
   "source": [
    "<br><br>\n",
    "\n",
    "### INDEXING AND SLICING"
   ]
  },
  {
   "cell_type": "code",
   "execution_count": 42,
   "metadata": {},
   "outputs": [
    {
     "name": "stdout",
     "output_type": "stream",
     "text": [
      "--------------- One-dimensional array ---------------\n",
      "\n",
      "one_array : [1 2 3 4 5 6 7] \n",
      "\n",
      "Indexing 2nd element  : 2\n",
      "Slicing from 2nd element upto end : [2 3 4 5 6 7]\n",
      "Slicing from 2nd element upto end but in reverse : [2 1]\n",
      "\n",
      "\n",
      "--------------- Multi-dimensional array ---------------\n",
      "\n",
      "multid_array : \n",
      "[[1 2 3]\n",
      " [4 5 6]\n",
      " [7 8 9]] \n",
      "\n",
      "Indexing of element at 2nd row and 3rd column : 6\n",
      "Slicing element from 1st to 2nd row and 1st to 2nd column : \n",
      "[[1 2]\n",
      " [4 5]]\n"
     ]
    }
   ],
   "source": [
    "# for one-dimensional indexing and slicing is almost same as python's list\n",
    "\n",
    "oned_array = np.array([1,2,3,4,5,6,7])\n",
    "print(\"--------------- One-dimensional array ---------------\\n\")\n",
    "print(f\"one_array : {oned_array} \\n\")\n",
    "print(f\"Indexing 2nd element  : {oned_array[1]}\")\n",
    "print(f\"Slicing from 2nd element upto end : {oned_array[1:]}\")\n",
    "print(f\"Slicing from 2nd element upto end but in reverse : {oned_array[1::-1]}\")\n",
    "\n",
    "\n",
    "\n",
    "# for multi-dimensional indexing and slicing is done bit differently\n",
    "\n",
    "multid_array = np.array([[1,2,3], [4,5,6], [7,8,9]])\n",
    "print(\"\\n\\n--------------- Multi-dimensional array ---------------\\n\")\n",
    "print(f\"multid_array : \\n{multid_array} \\n\")\n",
    "# for multi-dimen indexing we have to pass index of element in multi-dimen array as tuple (r -> row no., c -> column no.)\n",
    "print(f\"Indexing of element at 2nd row and 3rd column : {multid_array[(1,2)]}\")\n",
    "print(f\"Slicing element from 1st to 2nd row and 1st to 2nd column : \\n{multid_array[:2, :2]}\")\n",
    "\n",
    "# NOTE : If we skip slicing for columns after coma it will be-default select all columns\n",
    "# NOTE : Just like one-dimensional slicing and indexing we can also use negative indexing and slicing"
   ]
  },
  {
   "attachments": {},
   "cell_type": "markdown",
   "metadata": {},
   "source": [
    "<br><br>\n",
    "\n",
    "### RESHAPE AND TRANSPOSE"
   ]
  },
  {
   "cell_type": "code",
   "execution_count": 43,
   "metadata": {},
   "outputs": [
    {
     "name": "stdout",
     "output_type": "stream",
     "text": [
      "--------------- Array ---------------\n",
      "[[1 5]\n",
      " [3 2]\n",
      " [6 1]\n",
      " [6 3]\n",
      " [7 4]\n",
      " [9 3]]\n",
      "\n",
      "--------------- Reshaped array ---------------\n",
      "[[1 5 3 2 6 1 6 3 7 4 9 3]]\n",
      "\n",
      "--------------- Transposed array ---------------\n",
      "[[1 3 6 6 7 9]\n",
      " [5 2 1 3 4 3]]\n",
      "\n"
     ]
    }
   ],
   "source": [
    "array1 = np.array([[1,5],[3,2],[6,1],[6,3],[7,4],[9,3]])\n",
    "print(f\"--------------- Array ---------------\\n{array1}\\n\")\n",
    "\n",
    "# An array can be reshaped only in factors of its size else it will give error\n",
    "print(f\"--------------- Reshaped array ---------------\\n{array1.reshape(1,12)}\\n\")\n",
    "\n",
    "# Via transpose a new array is returned with dimensions opposite to previous one (eg. previous array's dimen -> [m,n] | new array's dimen -> [n,m])\n",
    "print(f\"--------------- Transposed array ---------------\\n{array1.T}\\n\")"
   ]
  },
  {
   "attachments": {},
   "cell_type": "markdown",
   "metadata": {},
   "source": [
    "<br><br>\n",
    "\n",
    "### STACKING ARRAYS"
   ]
  },
  {
   "cell_type": "code",
   "execution_count": 94,
   "metadata": {},
   "outputs": [
    {
     "name": "stdout",
     "output_type": "stream",
     "text": [
      "\n",
      "\n",
      "--------------- Array1 ---------------\n",
      "[[1 2 3]\n",
      " [4 5 6]]\n",
      "\n",
      "--------------- Array2 ---------------\n",
      "[['a' 'b' 'c']\n",
      " ['d' 'e' 'f']]\n",
      "\n",
      "--------------- Vertical stacking ---------------\n",
      "[['1' '2' '3']\n",
      " ['4' '5' '6']\n",
      " ['a' 'b' 'c']\n",
      " ['d' 'e' 'f']]\n",
      "\n",
      "--------------- Horizontal stacking ---------------\n",
      "[['1' '2' '3' 'a' 'b' 'c']\n",
      " ['4' '5' '6' 'd' 'e' 'f']]\n"
     ]
    }
   ],
   "source": [
    "# vwhile stacking array vertically / horizontally we should confirm that array have to be of same no. of columns / no. of rows\n",
    "array1 = np.array([[1,2,3], [4,5,6]])\n",
    "array2 = np.array([['a','b','c'], ['d','e','f']])\n",
    "\n",
    "print(f\"\\n\\n--------------- Array1 ---------------\\n{array1}\")\n",
    "print(f\"\\n--------------- Array2 ---------------\\n{array2}\")\n",
    "\n",
    "# here array with different datatype will change type as that of superior's\n",
    "print(f\"\\n--------------- Vertical stacking ---------------\\n{np.vstack((array1, array2))}\")\n",
    "print(f\"\\n--------------- Horizontal stacking ---------------\\n{np.hstack((array1, array2))}\")"
   ]
  },
  {
   "attachments": {},
   "cell_type": "markdown",
   "metadata": {},
   "source": [
    "<br><br>\n",
    "\n",
    "### SORT"
   ]
  },
  {
   "cell_type": "code",
   "execution_count": 44,
   "metadata": {},
   "outputs": [
    {
     "name": "stdout",
     "output_type": "stream",
     "text": [
      "\n",
      "--------------- Array ---------------\n",
      "[4, 6, 5, 3, 8]\n",
      "\n",
      "--------------- Sorted array ---------------\n",
      "[4, 6, 5, 3, 8]\n"
     ]
    }
   ],
   "source": [
    "# sort method will sort out the array\n",
    "sample2array = [4,6,5,3,8]\n",
    "\n",
    "print(f\"\\n--------------- Array ---------------\\n{sample2array}\")\n",
    "print(f\"\\n--------------- Sorted array ---------------\\n{sample2array}\")"
   ]
  },
  {
   "attachments": {},
   "cell_type": "markdown",
   "metadata": {},
   "source": [
    "<br><br>\n",
    "\n",
    "### CONCATENATE"
   ]
  },
  {
   "cell_type": "code",
   "execution_count": 45,
   "metadata": {},
   "outputs": [
    {
     "name": "stdout",
     "output_type": "stream",
     "text": [
      "\n",
      "--------------- Array-x ---------------\n",
      "[1, 2, 3]\n",
      "\n",
      "--------------- Array-y ---------------\n",
      "[4, 5, 6]\n",
      "\n",
      "--------------- concatenated array of x and y ---------------\n",
      "[1 2 3 4 5 6]\n"
     ]
    }
   ],
   "source": [
    "# concatenate will add two or more arrays in one single, though there dimensions should match\n",
    "x = [1,2,3]\n",
    "y = [4,5,6]\n",
    "z = np.concatenate((x,y))\n",
    "\n",
    "print(f\"\\n--------------- Array-x ---------------\\n{x}\")\n",
    "print(f\"\\n--------------- Array-y ---------------\\n{y}\")\n",
    "print(f\"\\n--------------- concatenated array of x and y ---------------\\n{np.concatenate((x,y))}\")"
   ]
  },
  {
   "attachments": {},
   "cell_type": "markdown",
   "metadata": {},
   "source": [
    "<br><br>\n",
    "\n",
    "### SQUEEZE"
   ]
  },
  {
   "cell_type": "code",
   "execution_count": 46,
   "metadata": {},
   "outputs": [
    {
     "name": "stdout",
     "output_type": "stream",
     "text": [
      "--------------- Normal array ---------------\n",
      "[[[1, 2, 3], [4, 5, 6]]]\n",
      "\n",
      "--------------- Squeezed array ---------------\n",
      "[[1 2 3]\n",
      " [4 5 6]]\n"
     ]
    }
   ],
   "source": [
    "# squeeze() will remove extra dimension\n",
    "\n",
    "# here we've tried to create three dimensional array which only have one 2-dimesional array in it, so with help of squeeze() we will remove that unused array\n",
    "sq1array = [[[1,2,3], [4,5,6]]]\n",
    "print(f\"--------------- Normal array ---------------\\n{sq1array}\\n\")\n",
    "sq2array = np.squeeze(sq1array)\n",
    "print(f\"--------------- Squeezed array ---------------\\n{sq2array}\")"
   ]
  }
 ],
 "metadata": {
  "kernelspec": {
   "display_name": "Python 3.9.9 64-bit",
   "language": "python",
   "name": "python3"
  },
  "language_info": {
   "codemirror_mode": {
    "name": "ipython",
    "version": 3
   },
   "file_extension": ".py",
   "mimetype": "text/x-python",
   "name": "python",
   "nbconvert_exporter": "python",
   "pygments_lexer": "ipython3",
   "version": "3.9.9"
  },
  "orig_nbformat": 4,
  "vscode": {
   "interpreter": {
    "hash": "25034407fed5d681614dac11a1c0537e8cb49e3a8883c071303eea01322943d9"
   }
  }
 },
 "nbformat": 4,
 "nbformat_minor": 2
}
