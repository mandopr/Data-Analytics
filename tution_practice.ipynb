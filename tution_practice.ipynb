{
 "cells": [
  {
   "attachments": {},
   "cell_type": "markdown",
   "metadata": {},
   "source": [
    "<br><br>\n",
    "# NUMPY"
   ]
  },
  {
   "cell_type": "code",
   "execution_count": 46,
   "metadata": {},
   "outputs": [
    {
     "data": {
      "text/plain": [
       "array([[ 23,  65,  23,   0],\n",
       "       [-87,  48,   0,  79],\n",
       "       [  0,  69, -13,  19]])"
      ]
     },
     "execution_count": 46,
     "metadata": {},
     "output_type": "execute_result"
    }
   ],
   "source": [
    "import numpy as np\n",
    "arr = np.array([[23,65,23,0],[-87,48,0,79],[0,69,-13,19]])\n",
    "arr"
   ]
  },
  {
   "attachments": {},
   "cell_type": "markdown",
   "metadata": {},
   "source": [
    "<br><br>\n",
    "### 1) MEAN"
   ]
  },
  {
   "cell_type": "code",
   "execution_count": 47,
   "metadata": {},
   "outputs": [
    {
     "data": {
      "text/plain": [
       "array([27.75, 10.  , 18.75])"
      ]
     },
     "execution_count": 47,
     "metadata": {},
     "output_type": "execute_result"
    }
   ],
   "source": [
    "# mean() will return mean of given data-array by flattening it\n",
    "np.mean(arr)\n",
    "\n",
    "# within mean() we can specify axis of which we want mean of specifically\n",
    "np.mean(arr, axis=1)"
   ]
  },
  {
   "attachments": {},
   "cell_type": "markdown",
   "metadata": {},
   "source": [
    "<br><br>\n",
    "### 2) MEDIAN"
   ]
  },
  {
   "cell_type": "code",
   "execution_count": 48,
   "metadata": {},
   "outputs": [
    {
     "data": {
      "text/plain": [
       "array([ 0., 65.,  0., 19.])"
      ]
     },
     "execution_count": 48,
     "metadata": {},
     "output_type": "execute_result"
    }
   ],
   "source": [
    "# median() will return median of given data-array by flattening it\n",
    "np.median(arr)\n",
    "\n",
    "# within median() we can specify axis of which we want median of specifically\n",
    "np.median(arr, axis=0)"
   ]
  },
  {
   "attachments": {},
   "cell_type": "markdown",
   "metadata": {},
   "source": [
    "<br><br>\n",
    "### 3) COUNT NON_ZERO"
   ]
  },
  {
   "cell_type": "code",
   "execution_count": 49,
   "metadata": {},
   "outputs": [
    {
     "data": {
      "text/plain": [
       "9"
      ]
     },
     "execution_count": 49,
     "metadata": {},
     "output_type": "execute_result"
    }
   ],
   "source": [
    "# count_nonzero() will return no. of non-zeroS in data-array by flattening it\n",
    "np.count_nonzero(arr)"
   ]
  },
  {
   "attachments": {},
   "cell_type": "markdown",
   "metadata": {},
   "source": [
    "<br><br>\n",
    "### 4) SQUEEZE"
   ]
  },
  {
   "cell_type": "code",
   "execution_count": 50,
   "metadata": {},
   "outputs": [
    {
     "name": "stdout",
     "output_type": "stream",
     "text": [
      "--------------- Normal array ---------------\n",
      "[[[1, 2, 3], [4, 5, 6]]]\n",
      "\n",
      "--------------- Squeezed array ---------------\n",
      "[[1 2 3]\n",
      " [4 5 6]]\n"
     ]
    }
   ],
   "source": [
    "# squeeze() will remove extra dimension\n",
    "\n",
    "# here we've tried to create three dimensional array which only have one 2-dimesional array in it, so with help of squeeze() we will remove that unused array\n",
    "sq1array = [[[1,2,3], [4,5,6]]]\n",
    "print(f\"--------------- Normal array ---------------\\n{sq1array}\\n\")\n",
    "sq2array = np.squeeze(sq1array)\n",
    "print(f\"--------------- Squeezed array ---------------\\n{sq2array}\")"
   ]
  },
  {
   "attachments": {},
   "cell_type": "markdown",
   "metadata": {},
   "source": [
    "<br><br>\n",
    "### 5) ARGMAX"
   ]
  },
  {
   "cell_type": "code",
   "execution_count": 51,
   "metadata": {},
   "outputs": [
    {
     "data": {
      "text/plain": [
       "7"
      ]
     },
     "execution_count": 51,
     "metadata": {},
     "output_type": "execute_result"
    }
   ],
   "source": [
    "# argmax() will return index of max element from the given array by flattening it\n",
    "np.argmax(arr)\n",
    "\n",
    "# NOTE : if the max number occurs multiple time, then this function will return the first iteration"
   ]
  },
  {
   "attachments": {},
   "cell_type": "markdown",
   "metadata": {},
   "source": [
    "<br><br>\n",
    "### 6) ARGMIN"
   ]
  },
  {
   "cell_type": "code",
   "execution_count": 52,
   "metadata": {},
   "outputs": [
    {
     "data": {
      "text/plain": [
       "4"
      ]
     },
     "execution_count": 52,
     "metadata": {},
     "output_type": "execute_result"
    }
   ],
   "source": [
    "# argmin() will return index of min element from the given array by flattening it\n",
    "np.argmin(arr)\n",
    "\n",
    "# NOTE : if the min number occurs multiple time, then this function will return the first iteration"
   ]
  },
  {
   "attachments": {},
   "cell_type": "markdown",
   "metadata": {},
   "source": [
    "<br><br>\n",
    "### 7) ARGWHERE"
   ]
  },
  {
   "cell_type": "code",
   "execution_count": 37,
   "metadata": {},
   "outputs": [
    {
     "data": {
      "text/plain": [
       "array([[0, 0],\n",
       "       [0, 1],\n",
       "       [0, 2],\n",
       "       [1, 0],\n",
       "       [1, 1],\n",
       "       [1, 3],\n",
       "       [2, 1],\n",
       "       [2, 2],\n",
       "       [2, 3]], dtype=int64)"
      ]
     },
     "execution_count": 37,
     "metadata": {},
     "output_type": "execute_result"
    }
   ],
   "source": [
    "# argwhere() will return indices for non-zero elements from the array\n",
    "np.argwhere(arr)"
   ]
  },
  {
   "attachments": {},
   "cell_type": "markdown",
   "metadata": {},
   "source": [
    "<br><br>\n",
    "### 8) CLIP"
   ]
  },
  {
   "cell_type": "code",
   "execution_count": 44,
   "metadata": {},
   "outputs": [
    {
     "name": "stdout",
     "output_type": "stream",
     "text": [
      "[[23 65 23  0]\n",
      " [64 48  0 79]\n",
      " [ 0 69 42 19]] \n",
      "\n",
      "[[23 50 23  0]\n",
      " [50 48  0 50]\n",
      " [ 0 50 42 19]]\n"
     ]
    }
   ],
   "source": [
    "# clip() will return the array of only cliped values within the range, those are which are not within the range would be replaced by the nearest no. from the range\n",
    "print(arr, \"\\n\")\n",
    "print(arr.clip(0,50))"
   ]
  },
  {
   "attachments": {},
   "cell_type": "markdown",
   "metadata": {},
   "source": [
    "<br><br>\n",
    "### 9) ALLCLOSE"
   ]
  },
  {
   "cell_type": "code",
   "execution_count": 67,
   "metadata": {},
   "outputs": [
    {
     "data": {
      "text/plain": [
       "False"
      ]
     },
     "execution_count": 67,
     "metadata": {},
     "output_type": "execute_result"
    }
   ],
   "source": [
    "# allclose() will check whether all the elements of passed two arrays are almost same or not with the tollerance given\n",
    "\n",
    "an_arr = [[23.4, 65.6, 23.4, 0.5], [-87.4, 48.7, 0.5, 79.6], [0.4, 69.6, -13.5, 19.4]]\n",
    "tollerance = 0.4\n",
    "\n",
    "np.allclose(arr,an_arr, tollerance)"
   ]
  },
  {
   "attachments": {},
   "cell_type": "markdown",
   "metadata": {},
   "source": [
    "<br><br>\n",
    "### 10) ABS"
   ]
  },
  {
   "cell_type": "code",
   "execution_count": 76,
   "metadata": {},
   "outputs": [
    {
     "name": "stdout",
     "output_type": "stream",
     "text": [
      "------------ Normal array ------------\n",
      " [[ 23  65  23   0]\n",
      " [-87  48   0  79]\n",
      " [  0  69 -13  19]]\n",
      "\n",
      "------------ Absolute array ------------\n",
      " [[23 65 23  0]\n",
      " [87 48  0 79]\n",
      " [ 0 69 13 19]]\n"
     ]
    }
   ],
   "source": [
    "# abs() will return the absolute value of each element from the array\n",
    "\n",
    "\n",
    "print(f\"------------ Normal array ------------\\n {arr}\")\n",
    "print(f\"\\n------------ Absolute array ------------\\n {np.abs(arr)}\")"
   ]
  },
  {
   "attachments": {},
   "cell_type": "markdown",
   "metadata": {},
   "source": [
    "<br><br>\n",
    "# PANDAS"
   ]
  },
  {
   "cell_type": "code",
   "execution_count": 77,
   "metadata": {},
   "outputs": [],
   "source": [
    "import pandas as pd"
   ]
  },
  {
   "cell_type": "code",
   "execution_count": 144,
   "metadata": {},
   "outputs": [],
   "source": [
    "character_df = pd.DataFrame(\n",
    "    {\n",
    "        \"Name\" : [\n",
    "            \"Levi Ackerman\",\n",
    "            \"Anne Leonhart\",\n",
    "            \"Eren Yeager\",\n",
    "            \"Sasha Blause\",\n",
    "            \"Riener Braun\",\n",
    "            \"Jean Kirstein\"\n",
    "            ],\n",
    "        \"Age\" : [32, 23, 19, 20, 23, 20],\n",
    "        \"Sex\" : [\"Male\", \"Female\", \"Male\", \"Female\", \"Male\", \"Male\"],\n",
    "        \"Kills\" : [100, 200, 10000000000, 20, 200, 50]\n",
    "    }\n",
    ")"
   ]
  },
  {
   "cell_type": "code",
   "execution_count": 145,
   "metadata": {},
   "outputs": [
    {
     "data": {
      "text/html": [
       "<div>\n",
       "<style scoped>\n",
       "    .dataframe tbody tr th:only-of-type {\n",
       "        vertical-align: middle;\n",
       "    }\n",
       "\n",
       "    .dataframe tbody tr th {\n",
       "        vertical-align: top;\n",
       "    }\n",
       "\n",
       "    .dataframe thead th {\n",
       "        text-align: right;\n",
       "    }\n",
       "</style>\n",
       "<table border=\"1\" class=\"dataframe\">\n",
       "  <thead>\n",
       "    <tr style=\"text-align: right;\">\n",
       "      <th></th>\n",
       "      <th>Name</th>\n",
       "      <th>Age</th>\n",
       "      <th>Sex</th>\n",
       "      <th>Kills</th>\n",
       "    </tr>\n",
       "  </thead>\n",
       "  <tbody>\n",
       "    <tr>\n",
       "      <th>0</th>\n",
       "      <td>Levi Ackerman</td>\n",
       "      <td>32</td>\n",
       "      <td>Male</td>\n",
       "      <td>100</td>\n",
       "    </tr>\n",
       "    <tr>\n",
       "      <th>1</th>\n",
       "      <td>Anne Leonhart</td>\n",
       "      <td>23</td>\n",
       "      <td>Female</td>\n",
       "      <td>200</td>\n",
       "    </tr>\n",
       "    <tr>\n",
       "      <th>2</th>\n",
       "      <td>Eren Yeager</td>\n",
       "      <td>19</td>\n",
       "      <td>Male</td>\n",
       "      <td>10000000000</td>\n",
       "    </tr>\n",
       "    <tr>\n",
       "      <th>3</th>\n",
       "      <td>Sasha Blause</td>\n",
       "      <td>20</td>\n",
       "      <td>Female</td>\n",
       "      <td>20</td>\n",
       "    </tr>\n",
       "    <tr>\n",
       "      <th>4</th>\n",
       "      <td>Riener Braun</td>\n",
       "      <td>23</td>\n",
       "      <td>Male</td>\n",
       "      <td>200</td>\n",
       "    </tr>\n",
       "    <tr>\n",
       "      <th>5</th>\n",
       "      <td>Jean Kirstein</td>\n",
       "      <td>20</td>\n",
       "      <td>Male</td>\n",
       "      <td>50</td>\n",
       "    </tr>\n",
       "  </tbody>\n",
       "</table>\n",
       "</div>"
      ],
      "text/plain": [
       "            Name  Age     Sex        Kills\n",
       "0  Levi Ackerman   32    Male          100\n",
       "1  Anne Leonhart   23  Female          200\n",
       "2    Eren Yeager   19    Male  10000000000\n",
       "3   Sasha Blause   20  Female           20\n",
       "4   Riener Braun   23    Male          200\n",
       "5  Jean Kirstein   20    Male           50"
      ]
     },
     "execution_count": 145,
     "metadata": {},
     "output_type": "execute_result"
    }
   ],
   "source": [
    "character_df"
   ]
  },
  {
   "attachments": {},
   "cell_type": "markdown",
   "metadata": {},
   "source": [
    "<br><br>\n",
    "### 1) COV"
   ]
  },
  {
   "cell_type": "code",
   "execution_count": 169,
   "metadata": {},
   "outputs": [
    {
     "data": {
      "text/html": [
       "<div>\n",
       "<style scoped>\n",
       "    .dataframe tbody tr th:only-of-type {\n",
       "        vertical-align: middle;\n",
       "    }\n",
       "\n",
       "    .dataframe tbody tr th {\n",
       "        vertical-align: top;\n",
       "    }\n",
       "\n",
       "    .dataframe thead th {\n",
       "        text-align: right;\n",
       "    }\n",
       "</style>\n",
       "<table border=\"1\" class=\"dataframe\">\n",
       "  <thead>\n",
       "    <tr style=\"text-align: right;\">\n",
       "      <th></th>\n",
       "      <th>Age</th>\n",
       "      <th>Kills</th>\n",
       "    </tr>\n",
       "  </thead>\n",
       "  <tbody>\n",
       "    <tr>\n",
       "      <th>Age</th>\n",
       "      <td>2.296667e+01</td>\n",
       "      <td>-7.666667e+09</td>\n",
       "    </tr>\n",
       "    <tr>\n",
       "      <th>Kills</th>\n",
       "      <td>-7.666667e+09</td>\n",
       "      <td>1.666667e+19</td>\n",
       "    </tr>\n",
       "  </tbody>\n",
       "</table>\n",
       "</div>"
      ],
      "text/plain": [
       "                Age         Kills\n",
       "Age    2.296667e+01 -7.666667e+09\n",
       "Kills -7.666667e+09  1.666667e+19"
      ]
     },
     "execution_count": 169,
     "metadata": {},
     "output_type": "execute_result"
    }
   ],
   "source": [
    "# cov() will return an DataFrame with the covariance of each int type column\n",
    "character_df.cov(numeric_only=True)"
   ]
  },
  {
   "attachments": {},
   "cell_type": "markdown",
   "metadata": {},
   "source": [
    "<br><br>\n",
    "### 2) MEMORY_USAGE"
   ]
  },
  {
   "cell_type": "code",
   "execution_count": 156,
   "metadata": {},
   "outputs": [
    {
     "data": {
      "text/plain": [
       "Index    128\n",
       "Name      48\n",
       "Age       48\n",
       "Sex       48\n",
       "Kills     48\n",
       "dtype: int64"
      ]
     },
     "execution_count": 156,
     "metadata": {},
     "output_type": "execute_result"
    }
   ],
   "source": [
    "# memory_usuage() will return the series of memory used by each column in DataFrame\n",
    "character_df.memory_usage()"
   ]
  },
  {
   "attachments": {},
   "cell_type": "markdown",
   "metadata": {},
   "source": [
    "<br><br>\n",
    "### 3) RENAME"
   ]
  },
  {
   "cell_type": "code",
   "execution_count": 92,
   "metadata": {},
   "outputs": [
    {
     "data": {
      "text/html": [
       "<div>\n",
       "<style scoped>\n",
       "    .dataframe tbody tr th:only-of-type {\n",
       "        vertical-align: middle;\n",
       "    }\n",
       "\n",
       "    .dataframe tbody tr th {\n",
       "        vertical-align: top;\n",
       "    }\n",
       "\n",
       "    .dataframe thead th {\n",
       "        text-align: right;\n",
       "    }\n",
       "</style>\n",
       "<table border=\"1\" class=\"dataframe\">\n",
       "  <thead>\n",
       "    <tr style=\"text-align: right;\">\n",
       "      <th></th>\n",
       "      <th>FullName</th>\n",
       "      <th>Age</th>\n",
       "      <th>Sex</th>\n",
       "    </tr>\n",
       "  </thead>\n",
       "  <tbody>\n",
       "    <tr>\n",
       "      <th>0</th>\n",
       "      <td>Levi Ackerman</td>\n",
       "      <td>32</td>\n",
       "      <td>Male</td>\n",
       "    </tr>\n",
       "    <tr>\n",
       "      <th>1</th>\n",
       "      <td>Anne Leonhart</td>\n",
       "      <td>23</td>\n",
       "      <td>Female</td>\n",
       "    </tr>\n",
       "    <tr>\n",
       "      <th>2</th>\n",
       "      <td>Eren Yeager</td>\n",
       "      <td>19</td>\n",
       "      <td>Male</td>\n",
       "    </tr>\n",
       "    <tr>\n",
       "      <th>3</th>\n",
       "      <td>Sasha Blause</td>\n",
       "      <td>20</td>\n",
       "      <td>Female</td>\n",
       "    </tr>\n",
       "    <tr>\n",
       "      <th>4</th>\n",
       "      <td>Riener Braun</td>\n",
       "      <td>23</td>\n",
       "      <td>Male</td>\n",
       "    </tr>\n",
       "    <tr>\n",
       "      <th>5</th>\n",
       "      <td>Jean Kirstein</td>\n",
       "      <td>20</td>\n",
       "      <td>Male</td>\n",
       "    </tr>\n",
       "  </tbody>\n",
       "</table>\n",
       "</div>"
      ],
      "text/plain": [
       "        FullName  Age     Sex\n",
       "0  Levi Ackerman   32    Male\n",
       "1  Anne Leonhart   23  Female\n",
       "2    Eren Yeager   19    Male\n",
       "3   Sasha Blause   20  Female\n",
       "4   Riener Braun   23    Male\n",
       "5  Jean Kirstein   20    Male"
      ]
     },
     "execution_count": 92,
     "metadata": {},
     "output_type": "execute_result"
    }
   ],
   "source": [
    "# rename() will rename the name of the column for output\n",
    "# rename take parameter \"columns\" which holds dictionary with key->value pair for (key the column name which we want to change and value with which we want to change\n",
    "\n",
    "character_df.rename(columns = {\"Name\":\"FullName\"})\n",
    "\n",
    "# NOTE : To actually change it in DataFrame we need to use \"inplpace=True\""
   ]
  },
  {
   "attachments": {},
   "cell_type": "markdown",
   "metadata": {},
   "source": [
    "<br><br>\n",
    "### 4) SPLIT"
   ]
  },
  {
   "cell_type": "code",
   "execution_count": 95,
   "metadata": {},
   "outputs": [
    {
     "data": {
      "text/html": [
       "<div>\n",
       "<style scoped>\n",
       "    .dataframe tbody tr th:only-of-type {\n",
       "        vertical-align: middle;\n",
       "    }\n",
       "\n",
       "    .dataframe tbody tr th {\n",
       "        vertical-align: top;\n",
       "    }\n",
       "\n",
       "    .dataframe thead th {\n",
       "        text-align: right;\n",
       "    }\n",
       "</style>\n",
       "<table border=\"1\" class=\"dataframe\">\n",
       "  <thead>\n",
       "    <tr style=\"text-align: right;\">\n",
       "      <th></th>\n",
       "      <th>Name</th>\n",
       "      <th>Age</th>\n",
       "      <th>Sex</th>\n",
       "      <th>FirstName</th>\n",
       "      <th>LastName</th>\n",
       "    </tr>\n",
       "  </thead>\n",
       "  <tbody>\n",
       "    <tr>\n",
       "      <th>0</th>\n",
       "      <td>Levi Ackerman</td>\n",
       "      <td>32</td>\n",
       "      <td>Male</td>\n",
       "      <td>Levi</td>\n",
       "      <td>Ackerman</td>\n",
       "    </tr>\n",
       "    <tr>\n",
       "      <th>1</th>\n",
       "      <td>Anne Leonhart</td>\n",
       "      <td>23</td>\n",
       "      <td>Female</td>\n",
       "      <td>Anne</td>\n",
       "      <td>Leonhart</td>\n",
       "    </tr>\n",
       "    <tr>\n",
       "      <th>2</th>\n",
       "      <td>Eren Yeager</td>\n",
       "      <td>19</td>\n",
       "      <td>Male</td>\n",
       "      <td>Eren</td>\n",
       "      <td>Yeager</td>\n",
       "    </tr>\n",
       "    <tr>\n",
       "      <th>3</th>\n",
       "      <td>Sasha Blause</td>\n",
       "      <td>20</td>\n",
       "      <td>Female</td>\n",
       "      <td>Sasha</td>\n",
       "      <td>Blause</td>\n",
       "    </tr>\n",
       "    <tr>\n",
       "      <th>4</th>\n",
       "      <td>Riener Braun</td>\n",
       "      <td>23</td>\n",
       "      <td>Male</td>\n",
       "      <td>Riener</td>\n",
       "      <td>Braun</td>\n",
       "    </tr>\n",
       "    <tr>\n",
       "      <th>5</th>\n",
       "      <td>Jean Kirstein</td>\n",
       "      <td>20</td>\n",
       "      <td>Male</td>\n",
       "      <td>Jean</td>\n",
       "      <td>Kirstein</td>\n",
       "    </tr>\n",
       "  </tbody>\n",
       "</table>\n",
       "</div>"
      ],
      "text/plain": [
       "            Name  Age     Sex FirstName  LastName\n",
       "0  Levi Ackerman   32    Male      Levi  Ackerman\n",
       "1  Anne Leonhart   23  Female      Anne  Leonhart\n",
       "2    Eren Yeager   19    Male      Eren    Yeager\n",
       "3   Sasha Blause   20  Female     Sasha    Blause\n",
       "4   Riener Braun   23    Male    Riener     Braun\n",
       "5  Jean Kirstein   20    Male      Jean  Kirstein"
      ]
     },
     "execution_count": 95,
     "metadata": {},
     "output_type": "execute_result"
    }
   ],
   "source": [
    "# split() will expand the DataFrame by breaking specific column with specific parameter(\" \" -> space, in below example), and to expand we have to turn expand parameter to True\n",
    "\n",
    "character_df[[\"FirstName\", \"LastName\"]] = character_df[\"Name\"].str.split(\" \", expand=True)\n",
    "character_df"
   ]
  },
  {
   "attachments": {},
   "cell_type": "markdown",
   "metadata": {},
   "source": [
    "<br><br>\n",
    "### 5) REPLACE"
   ]
  },
  {
   "cell_type": "code",
   "execution_count": 108,
   "metadata": {},
   "outputs": [
    {
     "data": {
      "text/html": [
       "<div>\n",
       "<style scoped>\n",
       "    .dataframe tbody tr th:only-of-type {\n",
       "        vertical-align: middle;\n",
       "    }\n",
       "\n",
       "    .dataframe tbody tr th {\n",
       "        vertical-align: top;\n",
       "    }\n",
       "\n",
       "    .dataframe thead th {\n",
       "        text-align: right;\n",
       "    }\n",
       "</style>\n",
       "<table border=\"1\" class=\"dataframe\">\n",
       "  <thead>\n",
       "    <tr style=\"text-align: right;\">\n",
       "      <th></th>\n",
       "      <th>Name</th>\n",
       "      <th>Age</th>\n",
       "      <th>Sex</th>\n",
       "      <th>FirstName</th>\n",
       "      <th>LastName</th>\n",
       "    </tr>\n",
       "  </thead>\n",
       "  <tbody>\n",
       "    <tr>\n",
       "      <th>0</th>\n",
       "      <td>Levi</td>\n",
       "      <td>32</td>\n",
       "      <td>Male</td>\n",
       "      <td>Levi</td>\n",
       "      <td>Ackerman</td>\n",
       "    </tr>\n",
       "    <tr>\n",
       "      <th>1</th>\n",
       "      <td>Anne</td>\n",
       "      <td>23</td>\n",
       "      <td>Female</td>\n",
       "      <td>Anne</td>\n",
       "      <td>Leonhart</td>\n",
       "    </tr>\n",
       "    <tr>\n",
       "      <th>2</th>\n",
       "      <td>Eren Yeager</td>\n",
       "      <td>19</td>\n",
       "      <td>Male</td>\n",
       "      <td>Ereh ...</td>\n",
       "      <td>Yeager</td>\n",
       "    </tr>\n",
       "    <tr>\n",
       "      <th>3</th>\n",
       "      <td>Sasha</td>\n",
       "      <td>20</td>\n",
       "      <td>Female</td>\n",
       "      <td>Sasha</td>\n",
       "      <td>Blause</td>\n",
       "    </tr>\n",
       "    <tr>\n",
       "      <th>4</th>\n",
       "      <td>Riener</td>\n",
       "      <td>23</td>\n",
       "      <td>Male</td>\n",
       "      <td>Riener</td>\n",
       "      <td>Braun</td>\n",
       "    </tr>\n",
       "    <tr>\n",
       "      <th>5</th>\n",
       "      <td>Jean</td>\n",
       "      <td>20</td>\n",
       "      <td>Male</td>\n",
       "      <td>Jean</td>\n",
       "      <td>Kirstein</td>\n",
       "    </tr>\n",
       "  </tbody>\n",
       "</table>\n",
       "</div>"
      ],
      "text/plain": [
       "          Name  Age     Sex FirstName  LastName\n",
       "0         Levi   32    Male      Levi  Ackerman\n",
       "1         Anne   23  Female      Anne  Leonhart\n",
       "2  Eren Yeager   19    Male  Ereh ...    Yeager\n",
       "3        Sasha   20  Female     Sasha    Blause\n",
       "4       Riener   23    Male    Riener     Braun\n",
       "5         Jean   20    Male      Jean  Kirstein"
      ]
     },
     "execution_count": 108,
     "metadata": {},
     "output_type": "execute_result"
    }
   ],
   "source": [
    "# replace() will change/replace data of any specified column\n",
    "character_df[\"FirstName\"] = character_df[\"FirstName\"].replace({\"Eren\":\"Ereh ...\"})\n",
    "character_df"
   ]
  },
  {
   "attachments": {},
   "cell_type": "markdown",
   "metadata": {},
   "source": [
    "<br><br>\n",
    "### 6) APPLY"
   ]
  },
  {
   "cell_type": "code",
   "execution_count": 122,
   "metadata": {},
   "outputs": [
    {
     "data": {
      "text/html": [
       "<div>\n",
       "<style scoped>\n",
       "    .dataframe tbody tr th:only-of-type {\n",
       "        vertical-align: middle;\n",
       "    }\n",
       "\n",
       "    .dataframe tbody tr th {\n",
       "        vertical-align: top;\n",
       "    }\n",
       "\n",
       "    .dataframe thead th {\n",
       "        text-align: right;\n",
       "    }\n",
       "</style>\n",
       "<table border=\"1\" class=\"dataframe\">\n",
       "  <thead>\n",
       "    <tr style=\"text-align: right;\">\n",
       "      <th></th>\n",
       "      <th>Name</th>\n",
       "      <th>Age</th>\n",
       "      <th>Sex</th>\n",
       "      <th>FirstName</th>\n",
       "      <th>LastName</th>\n",
       "    </tr>\n",
       "  </thead>\n",
       "  <tbody>\n",
       "    <tr>\n",
       "      <th>0</th>\n",
       "      <td>Levi</td>\n",
       "      <td>32</td>\n",
       "      <td>Male</td>\n",
       "      <td>LEVI</td>\n",
       "      <td>Ackerman</td>\n",
       "    </tr>\n",
       "    <tr>\n",
       "      <th>1</th>\n",
       "      <td>Anne</td>\n",
       "      <td>23</td>\n",
       "      <td>Female</td>\n",
       "      <td>ANNE</td>\n",
       "      <td>Leonhart</td>\n",
       "    </tr>\n",
       "    <tr>\n",
       "      <th>2</th>\n",
       "      <td>Eren Yeager</td>\n",
       "      <td>19</td>\n",
       "      <td>Male</td>\n",
       "      <td>EREH ...</td>\n",
       "      <td>Yeager</td>\n",
       "    </tr>\n",
       "    <tr>\n",
       "      <th>3</th>\n",
       "      <td>Sasha</td>\n",
       "      <td>20</td>\n",
       "      <td>Female</td>\n",
       "      <td>SASHA</td>\n",
       "      <td>Blause</td>\n",
       "    </tr>\n",
       "    <tr>\n",
       "      <th>4</th>\n",
       "      <td>Riener</td>\n",
       "      <td>23</td>\n",
       "      <td>Male</td>\n",
       "      <td>RIENER</td>\n",
       "      <td>Braun</td>\n",
       "    </tr>\n",
       "    <tr>\n",
       "      <th>5</th>\n",
       "      <td>Jean</td>\n",
       "      <td>20</td>\n",
       "      <td>Male</td>\n",
       "      <td>JEAN</td>\n",
       "      <td>Kirstein</td>\n",
       "    </tr>\n",
       "  </tbody>\n",
       "</table>\n",
       "</div>"
      ],
      "text/plain": [
       "          Name  Age     Sex FirstName  LastName\n",
       "0         Levi   32    Male      LEVI  Ackerman\n",
       "1         Anne   23  Female      ANNE  Leonhart\n",
       "2  Eren Yeager   19    Male  EREH ...    Yeager\n",
       "3        Sasha   20  Female     SASHA    Blause\n",
       "4       Riener   23    Male    RIENER     Braun\n",
       "5         Jean   20    Male      JEAN  Kirstein"
      ]
     },
     "execution_count": 122,
     "metadata": {},
     "output_type": "execute_result"
    }
   ],
   "source": [
    "# apply() will perform some given operations on specified column by passing anonymous function as an argument\n",
    "character_df[\"FirstName\"] = character_df[\"FirstName\"].apply(lambda x : x.upper())\n",
    "character_df"
   ]
  },
  {
   "attachments": {},
   "cell_type": "markdown",
   "metadata": {},
   "source": [
    "<br><br>\n",
    "### 7) APPLYMAP"
   ]
  },
  {
   "cell_type": "code",
   "execution_count": 125,
   "metadata": {},
   "outputs": [
    {
     "name": "stdout",
     "output_type": "stream",
     "text": [
      "            Name            Age            Sex      FirstName       LastName\n",
      "0  <class 'str'>  <class 'int'>  <class 'str'>  <class 'str'>  <class 'str'>\n",
      "1  <class 'str'>  <class 'int'>  <class 'str'>  <class 'str'>  <class 'str'>\n",
      "2  <class 'str'>  <class 'int'>  <class 'str'>  <class 'str'>  <class 'str'>\n",
      "3  <class 'str'>  <class 'int'>  <class 'str'>  <class 'str'>  <class 'str'>\n",
      "4  <class 'str'>  <class 'int'>  <class 'str'>  <class 'str'>  <class 'str'>\n",
      "5  <class 'str'>  <class 'int'>  <class 'str'>  <class 'str'>  <class 'str'>\n"
     ]
    }
   ],
   "source": [
    "# applymap() will perform some operation on all data-values in DataFrame by passing anonymous function as an argument\n",
    "print(character_df.applymap(lambda x : type(x)))"
   ]
  },
  {
   "attachments": {},
   "cell_type": "markdown",
   "metadata": {},
   "source": [
    "<br><br>\n",
    "### 8) QUANTILE"
   ]
  },
  {
   "cell_type": "code",
   "execution_count": 167,
   "metadata": {},
   "outputs": [
    {
     "data": {
      "text/plain": [
       "Age      20.0\n",
       "Kills    75.0\n",
       "Name: 0.3, dtype: float64"
      ]
     },
     "execution_count": 167,
     "metadata": {},
     "output_type": "execute_result"
    }
   ],
   "source": [
    "# quantile() returns the specified quantile at specified index(optional), by default it will be from 0.5 (median)\n",
    "character_df.quantile(0.3, numeric_only=True)"
   ]
  },
  {
   "attachments": {},
   "cell_type": "markdown",
   "metadata": {},
   "source": [
    "<br><br>\n",
    "### 9) SAMPLE"
   ]
  },
  {
   "cell_type": "code",
   "execution_count": 183,
   "metadata": {},
   "outputs": [
    {
     "data": {
      "text/html": [
       "<div>\n",
       "<style scoped>\n",
       "    .dataframe tbody tr th:only-of-type {\n",
       "        vertical-align: middle;\n",
       "    }\n",
       "\n",
       "    .dataframe tbody tr th {\n",
       "        vertical-align: top;\n",
       "    }\n",
       "\n",
       "    .dataframe thead th {\n",
       "        text-align: right;\n",
       "    }\n",
       "</style>\n",
       "<table border=\"1\" class=\"dataframe\">\n",
       "  <thead>\n",
       "    <tr style=\"text-align: right;\">\n",
       "      <th></th>\n",
       "      <th>Name</th>\n",
       "      <th>Age</th>\n",
       "      <th>Sex</th>\n",
       "      <th>Kills</th>\n",
       "    </tr>\n",
       "  </thead>\n",
       "  <tbody>\n",
       "    <tr>\n",
       "      <th>0</th>\n",
       "      <td>Levi Ackerman</td>\n",
       "      <td>32</td>\n",
       "      <td>Male</td>\n",
       "      <td>100</td>\n",
       "    </tr>\n",
       "    <tr>\n",
       "      <th>1</th>\n",
       "      <td>Anne Leonhart</td>\n",
       "      <td>23</td>\n",
       "      <td>Female</td>\n",
       "      <td>200</td>\n",
       "    </tr>\n",
       "    <tr>\n",
       "      <th>2</th>\n",
       "      <td>Eren Yeager</td>\n",
       "      <td>19</td>\n",
       "      <td>Male</td>\n",
       "      <td>10000000000</td>\n",
       "    </tr>\n",
       "  </tbody>\n",
       "</table>\n",
       "</div>"
      ],
      "text/plain": [
       "            Name  Age     Sex        Kills\n",
       "0  Levi Ackerman   32    Male          100\n",
       "1  Anne Leonhart   23  Female          200\n",
       "2    Eren Yeager   19    Male  10000000000"
      ]
     },
     "execution_count": 183,
     "metadata": {},
     "output_type": "execute_result"
    }
   ],
   "source": [
    "# sample() will return a random n no. of sample as DataFrame, if not specified it will return only one row\n",
    "character_df.sample(3)"
   ]
  },
  {
   "attachments": {},
   "cell_type": "markdown",
   "metadata": {},
   "source": [
    "<br><br>\n",
    "### 10) SKEW"
   ]
  },
  {
   "cell_type": "code",
   "execution_count": 187,
   "metadata": {},
   "outputs": [
    {
     "data": {
      "text/plain": [
       "Age      1.821963\n",
       "Kills    2.449490\n",
       "dtype: float64"
      ]
     },
     "execution_count": 187,
     "metadata": {},
     "output_type": "execute_result"
    }
   ],
   "source": [
    "# skew() will return Series with skewsness of each integer column\n",
    "character_df.skew(numeric_only=True)"
   ]
  }
 ],
 "metadata": {
  "kernelspec": {
   "display_name": "Python 3.9.9 64-bit",
   "language": "python",
   "name": "python3"
  },
  "language_info": {
   "codemirror_mode": {
    "name": "ipython",
    "version": 3
   },
   "file_extension": ".py",
   "mimetype": "text/x-python",
   "name": "python",
   "nbconvert_exporter": "python",
   "pygments_lexer": "ipython3",
   "version": "3.9.9"
  },
  "orig_nbformat": 4,
  "vscode": {
   "interpreter": {
    "hash": "25034407fed5d681614dac11a1c0537e8cb49e3a8883c071303eea01322943d9"
   }
  }
 },
 "nbformat": 4,
 "nbformat_minor": 2
}
